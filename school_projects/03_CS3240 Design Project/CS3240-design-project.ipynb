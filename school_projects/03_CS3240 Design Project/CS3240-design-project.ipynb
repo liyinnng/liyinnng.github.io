{
  "cells": [
    {
      "cell_type": "raw",
      "metadata": {},
      "source": [
        "---\n",
        "title: \"CS3240 Design Project\"\n",
        "description: \n",
        "  An individual assignment on Conceptual Design, Visual Design, and Prototyping.\n",
        "categories: [Curriculum]\n",
        "image: cs3240-cover.gif\n",
        "draft: false\n",
        "---"
      ],
      "id": "616c2bf0"
    },
    {
      "cell_type": "markdown",
      "metadata": {},
      "source": [
        "```{raw}\n",
        "<iframe style=\"border: 1px solid rgba(0, 0, 0, 0.1);\" width=\"800\" height=\"450\" src=\"https://www.figma.com/embed?embed_host=share&url=https%3A%2F%2Fwww.figma.com%2Ffile%2FwYWo8PE4DI7ukkk133lNci%2FUX-Research-Case-Study-%252F-Report-Template-(Community)%3Ftype%3Ddesign%26node-id%3D201%253A780%26mode%3Ddesign%26t%3D395dNJ1TCSNHMQZ1-1\" allowfullscreen></iframe>\n",
        "\n",
        "```"
      ],
      "id": "0315837c"
    }
  ],
  "metadata": {
    "kernelspec": {
      "display_name": "Python 3",
      "language": "python",
      "name": "python3"
    }
  },
  "nbformat": 4,
  "nbformat_minor": 5
}